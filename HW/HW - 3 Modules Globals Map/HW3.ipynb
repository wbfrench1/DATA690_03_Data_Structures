{
 "cells": [
  {
   "cell_type": "markdown",
   "id": "44253608",
   "metadata": {},
   "source": [
    "1.) Create a new module that has:\n",
    "\n",
    "myFibonacci() function that implements Fibonacci series using recursion. Refer to the text book, lecture slides and Jupyter notebook.\n",
    "When the module is imported, set a global variable that is used to count the number of recursions function makes. \n",
    "printNumRecursions() function to return the number of total recursions made in myFibonacci() function"
   ]
  },
  {
   "cell_type": "code",
   "execution_count": 1,
   "id": "3a5e00ba",
   "metadata": {},
   "outputs": [],
   "source": [
    "import Fibonacci as fib\n",
    "import importlib"
   ]
  },
  {
   "cell_type": "code",
   "execution_count": 17,
   "id": "9f59bca1",
   "metadata": {},
   "outputs": [
    {
     "data": {
      "text/plain": [
       "<module 'Fibonacci' from 'C:\\\\Users\\\\barker.FRENCH\\\\Jupyter Lab\\\\J - Data 690 - Data Structures\\\\Fibonacci.py'>"
      ]
     },
     "execution_count": 17,
     "metadata": {},
     "output_type": "execute_result"
    }
   ],
   "source": [
    "importlib.reload(fib)"
   ]
  },
  {
   "cell_type": "code",
   "execution_count": 30,
   "id": "fecf3b47",
   "metadata": {},
   "outputs": [],
   "source": [
    "def printNumRecursions( n: int):\n",
    "    \"\"\"This function prints the number of recursive calls in\n",
    "    calcualting the nth Fibonacci number.  It also prints the \n",
    "    resulting Fibonacci number and resets the global variable\n",
    "    from the Fibonacci.py module before each use.\"\"\"\n",
    "    \n",
    "    fib.numFibCalls = 0 \n",
    "    print ('Fibonacci result: ', fib.myFib(n))\n",
    "    print('Number of fib calls: ', fib.numFibCalls)"
   ]
  },
  {
   "cell_type": "code",
   "execution_count": 32,
   "id": "f40749c0",
   "metadata": {},
   "outputs": [
    {
     "name": "stdout",
     "output_type": "stream",
     "text": [
      "Fibonacci result:  8\n",
      "Number of fib calls:  15\n"
     ]
    }
   ],
   "source": [
    "printNumRecursions(5)"
   ]
  },
  {
   "cell_type": "markdown",
   "id": "ab3f3a1b",
   "metadata": {},
   "source": [
    "2. )Modify applyToEach() to use Python map() function"
   ]
  },
  {
   "cell_type": "code",
   "execution_count": 123,
   "id": "1a8355f9",
   "metadata": {},
   "outputs": [
    {
     "name": "stdout",
     "output_type": "stream",
     "text": [
      "L =  [1, -2, 3.333]\n",
      "Apply abs to each element of L.\n",
      "L =  [1, 2, 3.333]\n"
     ]
    }
   ],
   "source": [
    "def applyToEach(L: list, f):\n",
    "  \"\"\"Assumes L is a list, f a function\n",
    "    Mutates L by replacing each element, e, of L by f(e)\"\"\"\n",
    "  return [x for x in map(f,L)]\n",
    "    \n",
    "    \n",
    "L = [1, -2, 3.333]\n",
    "print('L = ', L)\n",
    "print('Apply abs to each element of L.')\n",
    "L =applyToEach(L, abs)\n",
    "print('L = ', L)"
   ]
  },
  {
   "cell_type": "code",
   "execution_count": null,
   "id": "50c915fe",
   "metadata": {},
   "outputs": [],
   "source": []
  }
 ],
 "metadata": {
  "kernelspec": {
   "display_name": "Python 3",
   "language": "python",
   "name": "python3"
  },
  "language_info": {
   "codemirror_mode": {
    "name": "ipython",
    "version": 3
   },
   "file_extension": ".py",
   "mimetype": "text/x-python",
   "name": "python",
   "nbconvert_exporter": "python",
   "pygments_lexer": "ipython3",
   "version": "3.7.10"
  }
 },
 "nbformat": 4,
 "nbformat_minor": 5
}
